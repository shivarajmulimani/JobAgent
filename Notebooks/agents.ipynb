{
 "cells": [
  {
   "cell_type": "code",
   "execution_count": null,
   "id": "65507123-16e6-4f16-b259-e0817916d257",
   "metadata": {},
   "outputs": [],
   "source": [
    "from phi.agent import Agent, RunResponse\n",
    "from phi.model.huggingface import HuggingFaceChat"
   ]
  },
  {
   "cell_type": "code",
   "execution_count": null,
   "id": "554fbce2-1dbc-43d8-887c-44dc329aa975",
   "metadata": {},
   "outputs": [],
   "source": []
  },
  {
   "cell_type": "code",
   "execution_count": null,
   "id": "baa82182-d4f3-49e2-8cda-a50482c9ddb9",
   "metadata": {},
   "outputs": [],
   "source": [
    "agent = Agent(\n",
    "    model=HuggingFaceChat(\n",
    "        api_key = \"####\",\n",
    "        id=\"meta-llama/Meta-Llama-3-8B-Instruct\",\n",
    "        max_tokens=4096,\n",
    "    ),\n",
    "    markdown=True\n",
    ")\n",
    "\n",
    "# Get the response in a variable\n",
    "Response = agent.run(\"Share a 2 sentence comedy indian story.\")\n",
    "print(Response.content)\n",
    "\n",
    "# Print the response on the terminal\n",
    "# agent.print_response(\"Share a 2 sentence comedy indian story.\")"
   ]
  },
  {
   "cell_type": "code",
   "execution_count": 3,
   "id": "02605672-f4fa-4fcd-9b71-7e7fd7b6a045",
   "metadata": {},
   "outputs": [
    {
     "data": {
      "text/html": [
       "<div>\n",
       "<style scoped>\n",
       "    .dataframe tbody tr th:only-of-type {\n",
       "        vertical-align: middle;\n",
       "    }\n",
       "\n",
       "    .dataframe tbody tr th {\n",
       "        vertical-align: top;\n",
       "    }\n",
       "\n",
       "    .dataframe thead th {\n",
       "        text-align: right;\n",
       "    }\n",
       "</style>\n",
       "<table border=\"1\" class=\"dataframe\">\n",
       "  <thead>\n",
       "    <tr style=\"text-align: right;\">\n",
       "      <th></th>\n",
       "      <th>id</th>\n",
       "      <th>site</th>\n",
       "      <th>job_url</th>\n",
       "      <th>job_url_direct</th>\n",
       "      <th>title</th>\n",
       "      <th>company</th>\n",
       "      <th>location</th>\n",
       "      <th>date_posted</th>\n",
       "      <th>job_type</th>\n",
       "      <th>salary_source</th>\n",
       "      <th>...</th>\n",
       "      <th>emails</th>\n",
       "      <th>description</th>\n",
       "      <th>company_industry</th>\n",
       "      <th>company_url</th>\n",
       "      <th>company_logo</th>\n",
       "      <th>company_url_direct</th>\n",
       "      <th>company_addresses</th>\n",
       "      <th>company_num_employees</th>\n",
       "      <th>company_revenue</th>\n",
       "      <th>company_description</th>\n",
       "    </tr>\n",
       "  </thead>\n",
       "  <tbody>\n",
       "    <tr>\n",
       "      <th>0</th>\n",
       "      <td>gd-1009615076714</td>\n",
       "      <td>glassdoor</td>\n",
       "      <td>https://www.glassdoor.com/job-listing/j?jl=100...</td>\n",
       "      <td>None</td>\n",
       "      <td>Data Scientist</td>\n",
       "      <td>InnoWave</td>\n",
       "      <td>Bengaluru</td>\n",
       "      <td>1.738022e+12</td>\n",
       "      <td>None</td>\n",
       "      <td>direct_data</td>\n",
       "      <td>...</td>\n",
       "      <td>None</td>\n",
       "      <td>**InnoWave** is a dynamic and innovative organ...</td>\n",
       "      <td>None</td>\n",
       "      <td>https://www.glassdoor.com/Overview/W-EI_IE6884...</td>\n",
       "      <td>https://media.glassdoor.com/sql/688483/innowav...</td>\n",
       "      <td>NaN</td>\n",
       "      <td>NaN</td>\n",
       "      <td>NaN</td>\n",
       "      <td>NaN</td>\n",
       "      <td>NaN</td>\n",
       "    </tr>\n",
       "    <tr>\n",
       "      <th>1</th>\n",
       "      <td>gd-1008863332402</td>\n",
       "      <td>glassdoor</td>\n",
       "      <td>https://www.glassdoor.com/job-listing/j?jl=100...</td>\n",
       "      <td>None</td>\n",
       "      <td>Data Scientist</td>\n",
       "      <td>Credit Saison</td>\n",
       "      <td>Bengaluru</td>\n",
       "      <td>1.738022e+12</td>\n",
       "      <td>None</td>\n",
       "      <td>None</td>\n",
       "      <td>...</td>\n",
       "      <td>None</td>\n",
       "      <td>**About Credit Saison India**  \\n\\nEstablished...</td>\n",
       "      <td>None</td>\n",
       "      <td>https://www.glassdoor.com/Overview/W-EI_IE1334...</td>\n",
       "      <td>None</td>\n",
       "      <td>NaN</td>\n",
       "      <td>NaN</td>\n",
       "      <td>NaN</td>\n",
       "      <td>NaN</td>\n",
       "      <td>NaN</td>\n",
       "    </tr>\n",
       "    <tr>\n",
       "      <th>2</th>\n",
       "      <td>gd-1009615110820</td>\n",
       "      <td>glassdoor</td>\n",
       "      <td>https://www.glassdoor.com/job-listing/j?jl=100...</td>\n",
       "      <td>None</td>\n",
       "      <td>Strategic Data Scientist</td>\n",
       "      <td>ConcertAI</td>\n",
       "      <td>Bengaluru</td>\n",
       "      <td>1.738022e+12</td>\n",
       "      <td>None</td>\n",
       "      <td>direct_data</td>\n",
       "      <td>...</td>\n",
       "      <td>None</td>\n",
       "      <td>**Job Requirements**  \\n\\n**Role Summary**\\n\\n...</td>\n",
       "      <td>None</td>\n",
       "      <td>https://www.glassdoor.com/Overview/W-EI_IE2377...</td>\n",
       "      <td>https://media.glassdoor.com/sql/2377764/concer...</td>\n",
       "      <td>NaN</td>\n",
       "      <td>NaN</td>\n",
       "      <td>NaN</td>\n",
       "      <td>NaN</td>\n",
       "      <td>NaN</td>\n",
       "    </tr>\n",
       "    <tr>\n",
       "      <th>3</th>\n",
       "      <td>gd-1009615049161</td>\n",
       "      <td>glassdoor</td>\n",
       "      <td>https://www.glassdoor.com/job-listing/j?jl=100...</td>\n",
       "      <td>None</td>\n",
       "      <td>Data Scientist</td>\n",
       "      <td>CGI</td>\n",
       "      <td>Bengaluru</td>\n",
       "      <td>1.738022e+12</td>\n",
       "      <td>None</td>\n",
       "      <td>direct_data</td>\n",
       "      <td>...</td>\n",
       "      <td>None</td>\n",
       "      <td>Data Scientist  \\n\\n  \\n\\nBACKGROUND  \\n\\nOver...</td>\n",
       "      <td>None</td>\n",
       "      <td>https://www.glassdoor.com/Overview/W-EI_IE8452...</td>\n",
       "      <td>https://media.glassdoor.com/sql/8452/cgi-squar...</td>\n",
       "      <td>NaN</td>\n",
       "      <td>NaN</td>\n",
       "      <td>NaN</td>\n",
       "      <td>NaN</td>\n",
       "      <td>NaN</td>\n",
       "    </tr>\n",
       "    <tr>\n",
       "      <th>4</th>\n",
       "      <td>gd-1009614240199</td>\n",
       "      <td>glassdoor</td>\n",
       "      <td>https://www.glassdoor.com/job-listing/j?jl=100...</td>\n",
       "      <td>None</td>\n",
       "      <td>Assistant Manager, Alteryx Developer</td>\n",
       "      <td>Genpact</td>\n",
       "      <td>Bengaluru</td>\n",
       "      <td>1.738022e+12</td>\n",
       "      <td>None</td>\n",
       "      <td>direct_data</td>\n",
       "      <td>...</td>\n",
       "      <td>None</td>\n",
       "      <td>*Genpact (NYSE: G) is a global professional se...</td>\n",
       "      <td>None</td>\n",
       "      <td>https://www.glassdoor.com/Overview/W-EI_IE4261...</td>\n",
       "      <td>https://media.glassdoor.com/sql/42613/genpact-...</td>\n",
       "      <td>NaN</td>\n",
       "      <td>NaN</td>\n",
       "      <td>NaN</td>\n",
       "      <td>NaN</td>\n",
       "      <td>NaN</td>\n",
       "    </tr>\n",
       "  </tbody>\n",
       "</table>\n",
       "<p>5 rows × 28 columns</p>\n",
       "</div>"
      ],
      "text/plain": [
       "                 id       site  \\\n",
       "0  gd-1009615076714  glassdoor   \n",
       "1  gd-1008863332402  glassdoor   \n",
       "2  gd-1009615110820  glassdoor   \n",
       "3  gd-1009615049161  glassdoor   \n",
       "4  gd-1009614240199  glassdoor   \n",
       "\n",
       "                                             job_url job_url_direct  \\\n",
       "0  https://www.glassdoor.com/job-listing/j?jl=100...           None   \n",
       "1  https://www.glassdoor.com/job-listing/j?jl=100...           None   \n",
       "2  https://www.glassdoor.com/job-listing/j?jl=100...           None   \n",
       "3  https://www.glassdoor.com/job-listing/j?jl=100...           None   \n",
       "4  https://www.glassdoor.com/job-listing/j?jl=100...           None   \n",
       "\n",
       "                                  title        company   location  \\\n",
       "0                        Data Scientist       InnoWave  Bengaluru   \n",
       "1                        Data Scientist  Credit Saison  Bengaluru   \n",
       "2              Strategic Data Scientist      ConcertAI  Bengaluru   \n",
       "3                        Data Scientist            CGI  Bengaluru   \n",
       "4  Assistant Manager, Alteryx Developer        Genpact  Bengaluru   \n",
       "\n",
       "    date_posted job_type salary_source  ... emails  \\\n",
       "0  1.738022e+12     None   direct_data  ...   None   \n",
       "1  1.738022e+12     None          None  ...   None   \n",
       "2  1.738022e+12     None   direct_data  ...   None   \n",
       "3  1.738022e+12     None   direct_data  ...   None   \n",
       "4  1.738022e+12     None   direct_data  ...   None   \n",
       "\n",
       "                                         description  company_industry  \\\n",
       "0  **InnoWave** is a dynamic and innovative organ...              None   \n",
       "1  **About Credit Saison India**  \\n\\nEstablished...              None   \n",
       "2  **Job Requirements**  \\n\\n**Role Summary**\\n\\n...              None   \n",
       "3  Data Scientist  \\n\\n  \\n\\nBACKGROUND  \\n\\nOver...              None   \n",
       "4  *Genpact (NYSE: G) is a global professional se...              None   \n",
       "\n",
       "                                         company_url  \\\n",
       "0  https://www.glassdoor.com/Overview/W-EI_IE6884...   \n",
       "1  https://www.glassdoor.com/Overview/W-EI_IE1334...   \n",
       "2  https://www.glassdoor.com/Overview/W-EI_IE2377...   \n",
       "3  https://www.glassdoor.com/Overview/W-EI_IE8452...   \n",
       "4  https://www.glassdoor.com/Overview/W-EI_IE4261...   \n",
       "\n",
       "                                        company_logo company_url_direct  \\\n",
       "0  https://media.glassdoor.com/sql/688483/innowav...                NaN   \n",
       "1                                               None                NaN   \n",
       "2  https://media.glassdoor.com/sql/2377764/concer...                NaN   \n",
       "3  https://media.glassdoor.com/sql/8452/cgi-squar...                NaN   \n",
       "4  https://media.glassdoor.com/sql/42613/genpact-...                NaN   \n",
       "\n",
       "  company_addresses company_num_employees company_revenue company_description  \n",
       "0               NaN                   NaN             NaN                 NaN  \n",
       "1               NaN                   NaN             NaN                 NaN  \n",
       "2               NaN                   NaN             NaN                 NaN  \n",
       "3               NaN                   NaN             NaN                 NaN  \n",
       "4               NaN                   NaN             NaN                 NaN  \n",
       "\n",
       "[5 rows x 28 columns]"
      ]
     },
     "execution_count": 3,
     "metadata": {},
     "output_type": "execute_result"
    }
   ],
   "source": [
    "df = pd.read_json(\"../data/jobs/jobs.json\")\n",
    "df.head()"
   ]
  },
  {
   "cell_type": "code",
   "execution_count": 4,
   "id": "ca7f85d9-3b8a-43d7-a1db-e77461faaa4b",
   "metadata": {},
   "outputs": [
    {
     "name": "stderr",
     "output_type": "stream",
     "text": [
      "C:\\Users\\Shivaraj Mulimani\\miniconda3\\envs\\JobAgent2\\Lib\\site-packages\\tqdm\\auto.py:21: TqdmWarning: IProgress not found. Please update jupyter and ipywidgets. See https://ipywidgets.readthedocs.io/en/stable/user_install.html\n",
      "  from .autonotebook import tqdm as notebook_tqdm\n"
     ]
    }
   ],
   "source": [
    "from phi.agent import Agent, RunResponse\n",
    "from phi.model.google import Gemini"
   ]
  },
  {
   "cell_type": "code",
   "execution_count": 50,
   "id": "9a7b7e62-e3fb-4f46-a852-66cda36fc3ea",
   "metadata": {},
   "outputs": [],
   "source": [
    "resume = '''\n",
    "Career Highlightscsv_data\n",
    "\n",
    "- AI Engineering Expertise: Over 7+ years of experience in researching , designing, and developing AI solutions across key subdomains including Machine Learning , Computer Vision, and Natural Language Processing.\n",
    "- Diverse Domain Applications: Successfully applied technologies to a range of industries including Cybersecurity, Fintech, Transportation, and Advertisement, etc,, demonstrating versatility and adaptability in solving complex problems.\n",
    "- Research and Publications: Authored white papers on Large Language Model applications and advanced Machine Learning applications, contributing to the academic and practical understanding of cutting-edge AI technologies.\n",
    "- Production-Grade Solutions: Designed and implemented AI modules integrated into products used by Fortune 500 companies, showcasing the ability to deliver impactful and scalable solutions in high-stakes environments.\n",
    "- Workshops and Hackathons: Actively engaged in the community by conducting workshops and participating in hackathons, fostering knowledge sharing and staying at the forefront of emerging trends and innovations.\n",
    "\n",
    "Experience Summary:\n",
    "Previously working at Scientist Technologies as AI Engineer, Bangalore 2018 - 2022\n",
    "Worked in Harman Connected Services Corporation India Pvt. ltd,  from 2017 - 2018.\n",
    "\n",
    "Key Skill Sets:\n",
    "Coding Languages            : Hands on Python, Capable to quickly learn R, C++, and  C.\n",
    "Hands-on experience  : Python, Machine Learning, Statistics, Data science, Computer vision, NLP,                          Deeplearning, Graph theory, AWS, GCP, Azure, GIT\n",
    "Python libraries              : Scikit-Learn, Pandas, Plotly, Seaborn, Matplotlib, Transformers, Gensim,  NLTK,  OpenCV etc,.\n",
    "\n",
    "\n",
    "\n",
    "'''"
   ]
  },
  {
   "cell_type": "code",
   "execution_count": 51,
   "id": "896ade32-e27f-48c5-8f54-e02209713d37",
   "metadata": {},
   "outputs": [],
   "source": [
    "from typing import List\n",
    "from rich.pretty import pprint\n",
    "from pydantic import BaseModel, Field\n",
    "\n",
    "\n",
    "class MovieScript(BaseModel):\n",
    "    rating: int = Field(..., description=\"Rating of the job matching\")\n",
    "    justification: List[str] = Field(..., description=\"Job rating justification in few points\")\n"
   ]
  },
  {
   "cell_type": "code",
   "execution_count": 52,
   "id": "b3a97279-566c-458d-ac8f-3702b4d9d8bd",
   "metadata": {},
   "outputs": [
    {
     "data": {
      "text/html": [
       "<pre style=\"white-space:pre;overflow-x:auto;line-height:normal;font-family:Menlo,'DejaVu Sans Mono',consolas,'Courier New',monospace\"><span style=\"color: #008000; text-decoration-color: #008000\">DEBUG   </span> *********** Agent ID: <span style=\"color: #ffff00; text-decoration-color: #ffff00\">88d69af5-2ed7-4ea3-aab0-4efe1621a143</span> ***********                                    \n",
       "</pre>\n"
      ],
      "text/plain": [
       "\u001b[32mDEBUG   \u001b[0m *********** Agent ID: \u001b[93m88d69af5-2ed7-4ea3-aab0-4efe1621a143\u001b[0m ***********                                    \n"
      ]
     },
     "metadata": {},
     "output_type": "display_data"
    },
    {
     "data": {
      "text/html": [
       "<pre style=\"white-space:pre;overflow-x:auto;line-height:normal;font-family:Menlo,'DejaVu Sans Mono',consolas,'Courier New',monospace\"><span style=\"color: #008000; text-decoration-color: #008000\">DEBUG   </span> *********** Session ID: <span style=\"color: #ffff00; text-decoration-color: #ffff00\">c7069494-82dd-4941-8d86-9c8dff50b50a</span> ***********                                  \n",
       "</pre>\n"
      ],
      "text/plain": [
       "\u001b[32mDEBUG   \u001b[0m *********** Session ID: \u001b[93mc7069494-82dd-4941-8d86-9c8dff50b50a\u001b[0m ***********                                  \n"
      ]
     },
     "metadata": {},
     "output_type": "display_data"
    },
    {
     "data": {
      "text/html": [
       "<pre style=\"white-space:pre;overflow-x:auto;line-height:normal;font-family:Menlo,'DejaVu Sans Mono',consolas,'Courier New',monospace\"><span style=\"color: #008000; text-decoration-color: #008000\">DEBUG   </span> Debug logs enabled                                                                                        \n",
       "</pre>\n"
      ],
      "text/plain": [
       "\u001b[32mDEBUG   \u001b[0m Debug logs enabled                                                                                        \n"
      ]
     },
     "metadata": {},
     "output_type": "display_data"
    }
   ],
   "source": [
    "agent = Agent(\n",
    "    name= \"Job matching\",\n",
    "    introduction = \"you will be given with a resume and job application you task is to tell wether given job aplication suitable to the resume ot not\",\n",
    "    model=Gemini(id=\"gemini-1.5-flash\", api_key=\"#####\"),\n",
    "    # tools=[CsvTools(csvs=[csv_data])],\n",
    "    # tools=[PandasTools()]\n",
    "    markdown=True,\n",
    "    debug_mode=True,\n",
    "    show_tool_calls=True,\n",
    "    instructions=[\n",
    "        \"First understand the resume\",\n",
    "        \"understand the skills mentioned in resume\",\n",
    "        \"Thenunderstand the job appilication requiremens\",\n",
    "        \"Then give a rating between 1 to 10, max rating if resume and job application matches else minimum rating\",\n",
    "        \"only return rating and justification in few points\"\n",
    "        \"return response in json with rating and justification keys\"\n",
    "    ],\n",
    "    response_model=MovieScript,\n",
    "    structured_outputs=True\n",
    ")"
   ]
  },
  {
   "cell_type": "code",
   "execution_count": 53,
   "id": "638a8ffa-57b3-49e5-ada0-c6dae9d0bbfd",
   "metadata": {},
   "outputs": [
    {
     "data": {
      "text/plain": [
       "\"**InnoWave** is a dynamic and innovative organization, committed to delivering cutting\\\\-edge solutions to our clients. We are looking for a **Data Scientist** with 3\\\\+ years of experience to join our team and contribute to data\\\\-driven decision\\\\-making and innovative projects.\\n\\n**Responsibilities:**\\n\\n* Analyze and interpret complex data to deliver actionable insights and recommendations.\\n* Develop, implement, and optimize machine learning models and algorithms.\\n* Design and maintain scalable data pipelines to process large datasets efficiently.\\n* Collaborate with cross\\\\-functional teams to identify business opportunities and deliver data\\\\-driven solutions.\\n* Visualize data and present findings to technical and non\\\\-technical stakeholders.\\n* Ensure data integrity, security, and compliance with organizational and industry standards.\\n* Stay updated with the latest trends and advancements in data science and machine learning.\\n* \\n\\n**Requirements:**\\n\\n* Bachelor's or Master’s degree in Data Science, Computer Science, Statistics, or a related field.\\n* Minimum of 3 years of experience in data science, analytics, or a similar role.\\n* Proficiency in programming languages like Python, R, or Julia.\\n* Experience with machine learning libraries/frameworks (e.g., TensorFlow, PyTorch, Scikit\\\\-learn).\\n* Solid understanding of statistical methods and data analysis techniques.\\n* Hands\\\\-on experience with big data tools (e.g., Spark, Hadoop) and databases (SQL/NoSQL).\\n* Proficiency in data visualization tools (e.g., Tableau, Power BI, Matplotlib, Seaborn).\\n* Strong problem\\\\-solving and communication skills.\\n* Ability to work independently and collaboratively in a fast\\\\-paced environment.\\n\\nJob Type: Full\\\\-time\""
      ]
     },
     "execution_count": 53,
     "metadata": {},
     "output_type": "execute_result"
    }
   ],
   "source": [
    "df.iloc[0, 19]"
   ]
  },
  {
   "cell_type": "code",
   "execution_count": 54,
   "id": "521c7aea-bc9f-470b-9b8d-9f5023186dd6",
   "metadata": {},
   "outputs": [
    {
     "data": {
      "text/html": [
       "<pre style=\"white-space:pre;overflow-x:auto;line-height:normal;font-family:Menlo,'DejaVu Sans Mono',consolas,'Courier New',monospace\"><span style=\"color: #008000; text-decoration-color: #008000\">DEBUG   </span> Setting <span style=\"color: #808000; text-decoration-color: #808000\">show_tool_calls</span>=<span style=\"color: #ff0000; text-decoration-color: #ff0000; font-style: italic\">False</span> as response_model is set                                                    \n",
       "</pre>\n"
      ],
      "text/plain": [
       "\u001b[32mDEBUG   \u001b[0m Setting \u001b[33mshow_tool_calls\u001b[0m=\u001b[3;91mFalse\u001b[0m as response_model is set                                                    \n"
      ]
     },
     "metadata": {},
     "output_type": "display_data"
    },
    {
     "data": {
      "text/html": [
       "<pre style=\"white-space:pre;overflow-x:auto;line-height:normal;font-family:Menlo,'DejaVu Sans Mono',consolas,'Courier New',monospace\"><span style=\"color: #008000; text-decoration-color: #008000\">DEBUG   </span> Setting <span style=\"color: #808000; text-decoration-color: #808000\">stream</span>=<span style=\"color: #ff0000; text-decoration-color: #ff0000; font-style: italic\">False</span> as response_model is set                                                             \n",
       "</pre>\n"
      ],
      "text/plain": [
       "\u001b[32mDEBUG   \u001b[0m Setting \u001b[33mstream\u001b[0m=\u001b[3;91mFalse\u001b[0m as response_model is set                                                             \n"
      ]
     },
     "metadata": {},
     "output_type": "display_data"
    },
    {
     "data": {
      "text/html": [
       "<pre style=\"white-space:pre;overflow-x:auto;line-height:normal;font-family:Menlo,'DejaVu Sans Mono',consolas,'Courier New',monospace\"><span style=\"color: #008000; text-decoration-color: #008000\">DEBUG   </span> *********** Agent Run Start: <span style=\"color: #ffff00; text-decoration-color: #ffff00\">129101eb-afe3-4909-aa50-0c31a076dfd9</span> ***********                             \n",
       "</pre>\n"
      ],
      "text/plain": [
       "\u001b[32mDEBUG   \u001b[0m *********** Agent Run Start: \u001b[93m129101eb-afe3-4909-aa50-0c31a076dfd9\u001b[0m ***********                             \n"
      ]
     },
     "metadata": {},
     "output_type": "display_data"
    },
    {
     "data": {
      "text/html": [
       "<pre style=\"white-space:pre;overflow-x:auto;line-height:normal;font-family:Menlo,'DejaVu Sans Mono',consolas,'Courier New',monospace\"><span style=\"color: #008000; text-decoration-color: #008000\">DEBUG   </span> ---------- Gemini Response Start ----------                                                               \n",
       "</pre>\n"
      ],
      "text/plain": [
       "\u001b[32mDEBUG   \u001b[0m ---------- Gemini Response Start ----------                                                               \n"
      ]
     },
     "metadata": {},
     "output_type": "display_data"
    },
    {
     "data": {
      "text/html": [
       "<pre style=\"white-space:pre;overflow-x:auto;line-height:normal;font-family:Menlo,'DejaVu Sans Mono',consolas,'Courier New',monospace\"><span style=\"color: #008000; text-decoration-color: #008000\">DEBUG   </span> ============== system ==============                                                                      \n",
       "</pre>\n"
      ],
      "text/plain": [
       "\u001b[32mDEBUG   \u001b[0m ============== system ==============                                                                      \n"
      ]
     },
     "metadata": {},
     "output_type": "display_data"
    },
    {
     "data": {
      "text/html": [
       "<pre style=\"white-space:pre;overflow-x:auto;line-height:normal;font-family:Menlo,'DejaVu Sans Mono',consolas,'Courier New',monospace\"><span style=\"color: #008000; text-decoration-color: #008000\">DEBUG   </span> ## Instructions                                                                                           \n",
       "         - First understand the resume                                                                             \n",
       "         - understand the skills mentioned in resume                                                               \n",
       "         - Thenunderstand the job appilication requiremens                                                         \n",
       "         - Then give a rating between <span style=\"color: #008080; text-decoration-color: #008080; font-weight: bold\">1</span> to <span style=\"color: #008080; text-decoration-color: #008080; font-weight: bold\">10</span>, max rating if resume and job application matches else minimum rating\n",
       "         - only return rating and justification in few pointsreturn response in json with rating and justification \n",
       "         keys                                                                                                      \n",
       "</pre>\n"
      ],
      "text/plain": [
       "\u001b[32mDEBUG   \u001b[0m ## Instructions                                                                                           \n",
       "         - First understand the resume                                                                             \n",
       "         - understand the skills mentioned in resume                                                               \n",
       "         - Thenunderstand the job appilication requiremens                                                         \n",
       "         - Then give a rating between \u001b[1;36m1\u001b[0m to \u001b[1;36m10\u001b[0m, max rating if resume and job application matches else minimum rating\n",
       "         - only return rating and justification in few pointsreturn response in json with rating and justification \n",
       "         keys                                                                                                      \n"
      ]
     },
     "metadata": {},
     "output_type": "display_data"
    },
    {
     "data": {
      "text/html": [
       "<pre style=\"white-space:pre;overflow-x:auto;line-height:normal;font-family:Menlo,'DejaVu Sans Mono',consolas,'Courier New',monospace\"><span style=\"color: #008000; text-decoration-color: #008000\">DEBUG   </span> ============== user ==============                                                                        \n",
       "</pre>\n"
      ],
      "text/plain": [
       "\u001b[32mDEBUG   \u001b[0m ============== user ==============                                                                        \n"
      ]
     },
     "metadata": {},
     "output_type": "display_data"
    },
    {
     "data": {
      "text/html": [
       "<pre style=\"white-space:pre;overflow-x:auto;line-height:normal;font-family:Menlo,'DejaVu Sans Mono',consolas,'Courier New',monospace\"><span style=\"color: #008000; text-decoration-color: #008000\">DEBUG   </span> resume -                                                                                                  \n",
       "         Career Highlights                                                                                         \n",
       "                                                                                                                   \n",
       "         - AI Engineering Expertise: Over <span style=\"color: #008080; text-decoration-color: #008080; font-weight: bold\">7</span>+ years of experience in researching , designing, and developing AI     \n",
       "         solutions across key subdomains including Machine Learning , Computer Vision, and Natural Language        \n",
       "         Processing.                                                                                               \n",
       "         - Diverse Domain Applications: Successfully applied technologies to a range of industries including       \n",
       "         Cybersecurity, Fintech, Transportation, and Advertisement, etc,, demonstrating versatility and            \n",
       "         adaptability in solving complex problems.                                                                 \n",
       "         - Research and Publications: Authored white papers on Large Language Model applications and advanced      \n",
       "         Machine Learning applications, contributing to the academic and practical understanding of cutting-edge AI\n",
       "         technologies.                                                                                             \n",
       "         - Production-Grade Solutions: Designed and implemented AI modules integrated into products used by Fortune\n",
       "         <span style=\"color: #008080; text-decoration-color: #008080; font-weight: bold\">500</span> companies, showcasing the ability to deliver impactful and scalable solutions in high-stakes          \n",
       "         environments.                                                                                             \n",
       "         - Workshops and Hackathons: Actively engaged in the community by conducting workshops and participating in\n",
       "         hackathons, fostering knowledge sharing and staying at the forefront of emerging trends and innovations.  \n",
       "                                                                                                                   \n",
       "         Experience Summary:                                                                                       \n",
       "         Currently working in Acalvio Technologies as Security Data Scientist, Bangalore from September <span style=\"color: #008080; text-decoration-color: #008080; font-weight: bold\">2022</span>       \n",
       "         Previously working at Scientist Technologies as AI Engineer, Bangalore <span style=\"color: #008080; text-decoration-color: #008080; font-weight: bold\">2018</span> - <span style=\"color: #008080; text-decoration-color: #008080; font-weight: bold\">2022</span>                        \n",
       "         Worked in Harman Connected Services Corporation India Pvt. ltd,  from <span style=\"color: #008080; text-decoration-color: #008080; font-weight: bold\">2017</span> - <span style=\"color: #008080; text-decoration-color: #008080; font-weight: bold\">2018</span>.                        \n",
       "                                                                                                                   \n",
       "         Key Skill Sets:                                                                                           \n",
       "         Coding Languages            : Hands on Python, Capable to quickly learn R, C++, and  C.                   \n",
       "         Hands-on experience  : Python, Machine Learning, Statistics, Data science, Computer vision, NLP,          \n",
       "         Deeplearning, Graph theory, AWS, GCP, Azure, GIT                                                          \n",
       "         Python libraries              : Scikit-Learn, Pandas, Plotly, Seaborn, Matplotlib, Transformers, Gensim,  \n",
       "         NLTK,  OpenCV etc,.                                                                                       \n",
       "                                                                                                                   \n",
       "                                                                                                                   \n",
       "                                                                                                                   \n",
       "         , and job applicatioh is - **InnoWave** is a dynamic and innovative organization, committed to delivering \n",
       "         cutting\\-edge solutions to our clients. We are looking for a **Data Scientist** with <span style=\"color: #008080; text-decoration-color: #008080; font-weight: bold\">3</span>\\+ years of         \n",
       "         experience to join our team and contribute to data\\-driven decision\\-making and innovative projects.      \n",
       "                                                                                                                   \n",
       "         **Responsibilities:**                                                                                     \n",
       "                                                                                                                   \n",
       "         * Analyze and interpret complex data to deliver actionable insights and recommendations.                  \n",
       "         * Develop, implement, and optimize machine learning models and algorithms.                                \n",
       "         * Design and maintain scalable data pipelines to process large datasets efficiently.                      \n",
       "         * Collaborate with cross\\-functional teams to identify business opportunities and deliver data\\-driven    \n",
       "         solutions.                                                                                                \n",
       "         * Visualize data and present findings to technical and non\\-technical stakeholders.                       \n",
       "         * Ensure data integrity, security, and compliance with organizational and industry standards.             \n",
       "         * Stay updated with the latest trends and advancements in data science and machine learning.              \n",
       "         *                                                                                                         \n",
       "                                                                                                                   \n",
       "         **Requirements:**                                                                                         \n",
       "                                                                                                                   \n",
       "         * Bachelor's or Master’s degree in Data Science, Computer Science, Statistics, or a related field.        \n",
       "         * Minimum of <span style=\"color: #008080; text-decoration-color: #008080; font-weight: bold\">3</span> years of experience in data science, analytics, or a similar role.                         \n",
       "         * Proficiency in programming languages like Python, R, or Julia.                                          \n",
       "         * Experience with machine learning libraries/frameworks <span style=\"font-weight: bold\">(</span>e.g., TensorFlow, PyTorch, Scikit\\-learn<span style=\"font-weight: bold\">)</span>.       \n",
       "         * Solid understanding of statistical methods and data analysis techniques.                                \n",
       "         * Hands\\-on experience with big data tools <span style=\"font-weight: bold\">(</span>e.g., Spark, Hadoop<span style=\"font-weight: bold\">)</span> and databases <span style=\"font-weight: bold\">(</span>SQL/NoSQL<span style=\"font-weight: bold\">)</span>.               \n",
       "         * Proficiency in data visualization tools <span style=\"font-weight: bold\">(</span>e.g., Tableau, Power BI, Matplotlib, Seaborn<span style=\"font-weight: bold\">)</span>.                 \n",
       "         * Strong problem\\-solving and communication skills.                                                       \n",
       "         * Ability to work independently and collaboratively in a fast\\-paced environment.                         \n",
       "                                                                                                                   \n",
       "         Job Type: Full\\-time                                                                                      \n",
       "</pre>\n"
      ],
      "text/plain": [
       "\u001b[32mDEBUG   \u001b[0m resume -                                                                                                  \n",
       "         Career Highlights                                                                                         \n",
       "                                                                                                                   \n",
       "         - AI Engineering Expertise: Over \u001b[1;36m7\u001b[0m+ years of experience in researching , designing, and developing AI     \n",
       "         solutions across key subdomains including Machine Learning , Computer Vision, and Natural Language        \n",
       "         Processing.                                                                                               \n",
       "         - Diverse Domain Applications: Successfully applied technologies to a range of industries including       \n",
       "         Cybersecurity, Fintech, Transportation, and Advertisement, etc,, demonstrating versatility and            \n",
       "         adaptability in solving complex problems.                                                                 \n",
       "         - Research and Publications: Authored white papers on Large Language Model applications and advanced      \n",
       "         Machine Learning applications, contributing to the academic and practical understanding of cutting-edge AI\n",
       "         technologies.                                                                                             \n",
       "         - Production-Grade Solutions: Designed and implemented AI modules integrated into products used by Fortune\n",
       "         \u001b[1;36m500\u001b[0m companies, showcasing the ability to deliver impactful and scalable solutions in high-stakes          \n",
       "         environments.                                                                                             \n",
       "         - Workshops and Hackathons: Actively engaged in the community by conducting workshops and participating in\n",
       "         hackathons, fostering knowledge sharing and staying at the forefront of emerging trends and innovations.  \n",
       "                                                                                                                   \n",
       "         Experience Summary:                                                                                       \n",
       "         Currently working in Acalvio Technologies as Security Data Scientist, Bangalore from September \u001b[1;36m2022\u001b[0m       \n",
       "         Previously working at Scientist Technologies as AI Engineer, Bangalore \u001b[1;36m2018\u001b[0m - \u001b[1;36m2022\u001b[0m                        \n",
       "         Worked in Harman Connected Services Corporation India Pvt. ltd,  from \u001b[1;36m2017\u001b[0m - \u001b[1;36m2018\u001b[0m.                        \n",
       "                                                                                                                   \n",
       "         Key Skill Sets:                                                                                           \n",
       "         Coding Languages            : Hands on Python, Capable to quickly learn R, C++, and  C.                   \n",
       "         Hands-on experience  : Python, Machine Learning, Statistics, Data science, Computer vision, NLP,          \n",
       "         Deeplearning, Graph theory, AWS, GCP, Azure, GIT                                                          \n",
       "         Python libraries              : Scikit-Learn, Pandas, Plotly, Seaborn, Matplotlib, Transformers, Gensim,  \n",
       "         NLTK,  OpenCV etc,.                                                                                       \n",
       "                                                                                                                   \n",
       "                                                                                                                   \n",
       "                                                                                                                   \n",
       "         , and job applicatioh is - **InnoWave** is a dynamic and innovative organization, committed to delivering \n",
       "         cutting\\-edge solutions to our clients. We are looking for a **Data Scientist** with \u001b[1;36m3\u001b[0m\\+ years of         \n",
       "         experience to join our team and contribute to data\\-driven decision\\-making and innovative projects.      \n",
       "                                                                                                                   \n",
       "         **Responsibilities:**                                                                                     \n",
       "                                                                                                                   \n",
       "         * Analyze and interpret complex data to deliver actionable insights and recommendations.                  \n",
       "         * Develop, implement, and optimize machine learning models and algorithms.                                \n",
       "         * Design and maintain scalable data pipelines to process large datasets efficiently.                      \n",
       "         * Collaborate with cross\\-functional teams to identify business opportunities and deliver data\\-driven    \n",
       "         solutions.                                                                                                \n",
       "         * Visualize data and present findings to technical and non\\-technical stakeholders.                       \n",
       "         * Ensure data integrity, security, and compliance with organizational and industry standards.             \n",
       "         * Stay updated with the latest trends and advancements in data science and machine learning.              \n",
       "         *                                                                                                         \n",
       "                                                                                                                   \n",
       "         **Requirements:**                                                                                         \n",
       "                                                                                                                   \n",
       "         * Bachelor's or Master’s degree in Data Science, Computer Science, Statistics, or a related field.        \n",
       "         * Minimum of \u001b[1;36m3\u001b[0m years of experience in data science, analytics, or a similar role.                         \n",
       "         * Proficiency in programming languages like Python, R, or Julia.                                          \n",
       "         * Experience with machine learning libraries/frameworks \u001b[1m(\u001b[0me.g., TensorFlow, PyTorch, Scikit\\-learn\u001b[1m)\u001b[0m.       \n",
       "         * Solid understanding of statistical methods and data analysis techniques.                                \n",
       "         * Hands\\-on experience with big data tools \u001b[1m(\u001b[0me.g., Spark, Hadoop\u001b[1m)\u001b[0m and databases \u001b[1m(\u001b[0mSQL/NoSQL\u001b[1m)\u001b[0m.               \n",
       "         * Proficiency in data visualization tools \u001b[1m(\u001b[0me.g., Tableau, Power BI, Matplotlib, Seaborn\u001b[1m)\u001b[0m.                 \n",
       "         * Strong problem\\-solving and communication skills.                                                       \n",
       "         * Ability to work independently and collaboratively in a fast\\-paced environment.                         \n",
       "                                                                                                                   \n",
       "         Job Type: Full\\-time                                                                                      \n"
      ]
     },
     "metadata": {},
     "output_type": "display_data"
    },
    {
     "data": {
      "text/html": [
       "<pre style=\"white-space:pre;overflow-x:auto;line-height:normal;font-family:Menlo,'DejaVu Sans Mono',consolas,'Courier New',monospace\"><span style=\"color: #008000; text-decoration-color: #008000\">DEBUG   </span> ============== model ==============                                                                       \n",
       "</pre>\n"
      ],
      "text/plain": [
       "\u001b[32mDEBUG   \u001b[0m ============== model ==============                                                                       \n"
      ]
     },
     "metadata": {},
     "output_type": "display_data"
    },
    {
     "data": {
      "text/html": [
       "<pre style=\"white-space:pre;overflow-x:auto;line-height:normal;font-family:Menlo,'DejaVu Sans Mono',consolas,'Courier New',monospace\"><span style=\"color: #008000; text-decoration-color: #008000\">DEBUG   </span> ```json                                                                                                   \n",
       "         <span style=\"font-weight: bold\">{</span>                                                                                                         \n",
       "           <span style=\"color: #008000; text-decoration-color: #008000\">\"rating\"</span>: <span style=\"color: #008080; text-decoration-color: #008080; font-weight: bold\">9</span>,                                                                                            \n",
       "           <span style=\"color: #008000; text-decoration-color: #008000\">\"justification\"</span>: <span style=\"font-weight: bold\">[</span>                                                                                      \n",
       "             <span style=\"color: #008000; text-decoration-color: #008000\">\"The candidate possesses significantly more experience (7+ years) than the minimum requirement (3 </span>    \n",
       "         <span style=\"color: #008000; text-decoration-color: #008000\">years) of the job description.\"</span>,                                                                          \n",
       "             <span style=\"color: #008000; text-decoration-color: #008000\">\"The candidate's skillset extensively covers the required programming languages (Python), machine </span>    \n",
       "         <span style=\"color: #008000; text-decoration-color: #008000\">learning libraries (Scikit-learn), and data visualization tools (Matplotlib, Seaborn).\"</span>,                  \n",
       "             <span style=\"color: #008000; text-decoration-color: #008000\">\"The resume highlights experience in diverse domains, showcasing adaptability relevant to a dynamic </span>  \n",
       "         <span style=\"color: #008000; text-decoration-color: #008000\">organization like InnoWave.\"</span>,                                                                             \n",
       "             <span style=\"color: #008000; text-decoration-color: #008000\">\"The candidate's experience with cloud platforms (AWS, GCP, Azure) is a valuable asset, although not </span> \n",
       "         <span style=\"color: #008000; text-decoration-color: #008000\">explicitly mentioned in the job description.\"</span>,                                                            \n",
       "             <span style=\"color: #008000; text-decoration-color: #008000\">\"While the job description mentions big data tools, the resume doesn't explicitly state experience </span>   \n",
       "         <span style=\"color: #008000; text-decoration-color: #008000\">with Spark or Hadoop.  This is a minor gap.\"</span>                                                              \n",
       "           <span style=\"font-weight: bold\">]</span>                                                                                                       \n",
       "         <span style=\"font-weight: bold\">}</span>                                                                                                         \n",
       "         ```                                                                                                       \n",
       "                                                                                                                   \n",
       "</pre>\n"
      ],
      "text/plain": [
       "\u001b[32mDEBUG   \u001b[0m ```json                                                                                                   \n",
       "         \u001b[1m{\u001b[0m                                                                                                         \n",
       "           \u001b[32m\"rating\"\u001b[0m: \u001b[1;36m9\u001b[0m,                                                                                            \n",
       "           \u001b[32m\"justification\"\u001b[0m: \u001b[1m[\u001b[0m                                                                                      \n",
       "             \u001b[32m\"The candidate possesses significantly more experience \u001b[0m\u001b[32m(\u001b[0m\u001b[32m7+ years\u001b[0m\u001b[32m)\u001b[0m\u001b[32m than the minimum requirement \u001b[0m\u001b[32m(\u001b[0m\u001b[32m3 \u001b[0m    \n",
       "         \u001b[32myears\u001b[0m\u001b[32m)\u001b[0m\u001b[32m of the job description.\"\u001b[0m,                                                                          \n",
       "             \u001b[32m\"The candidate's skillset extensively covers the required programming languages \u001b[0m\u001b[32m(\u001b[0m\u001b[32mPython\u001b[0m\u001b[32m)\u001b[0m\u001b[32m, machine \u001b[0m    \n",
       "         \u001b[32mlearning libraries \u001b[0m\u001b[32m(\u001b[0m\u001b[32mScikit-learn\u001b[0m\u001b[32m)\u001b[0m\u001b[32m, and data visualization tools \u001b[0m\u001b[32m(\u001b[0m\u001b[32mMatplotlib, Seaborn\u001b[0m\u001b[32m)\u001b[0m\u001b[32m.\"\u001b[0m,                  \n",
       "             \u001b[32m\"The resume highlights experience in diverse domains, showcasing adaptability relevant to a dynamic \u001b[0m  \n",
       "         \u001b[32morganization like InnoWave.\"\u001b[0m,                                                                             \n",
       "             \u001b[32m\"The candidate's experience with cloud platforms \u001b[0m\u001b[32m(\u001b[0m\u001b[32mAWS, GCP, Azure\u001b[0m\u001b[32m)\u001b[0m\u001b[32m is a valuable asset, although not \u001b[0m \n",
       "         \u001b[32mexplicitly mentioned in the job description.\"\u001b[0m,                                                            \n",
       "             \u001b[32m\"While the job description mentions big data tools, the resume doesn't explicitly state experience \u001b[0m   \n",
       "         \u001b[32mwith Spark or Hadoop.  This is a minor gap.\"\u001b[0m                                                              \n",
       "           \u001b[1m]\u001b[0m                                                                                                       \n",
       "         \u001b[1m}\u001b[0m                                                                                                         \n",
       "         ```                                                                                                       \n",
       "                                                                                                                   \n"
      ]
     },
     "metadata": {},
     "output_type": "display_data"
    },
    {
     "data": {
      "text/html": [
       "<pre style=\"white-space:pre;overflow-x:auto;line-height:normal;font-family:Menlo,'DejaVu Sans Mono',consolas,'Courier New',monospace\"><span style=\"color: #008000; text-decoration-color: #008000\">DEBUG   </span> **************** METRICS START ****************                                                           \n",
       "</pre>\n"
      ],
      "text/plain": [
       "\u001b[32mDEBUG   \u001b[0m **************** METRICS START ****************                                                           \n"
      ]
     },
     "metadata": {},
     "output_type": "display_data"
    },
    {
     "data": {
      "text/html": [
       "<pre style=\"white-space:pre;overflow-x:auto;line-height:normal;font-family:Menlo,'DejaVu Sans Mono',consolas,'Courier New',monospace\"><span style=\"color: #008000; text-decoration-color: #008000\">DEBUG   </span> * Time to generate response:   <span style=\"color: #008080; text-decoration-color: #008080; font-weight: bold\">3.</span>2825s                                                                    \n",
       "</pre>\n"
      ],
      "text/plain": [
       "\u001b[32mDEBUG   \u001b[0m * Time to generate response:   \u001b[1;36m3.\u001b[0m2825s                                                                    \n"
      ]
     },
     "metadata": {},
     "output_type": "display_data"
    },
    {
     "data": {
      "text/html": [
       "<pre style=\"white-space:pre;overflow-x:auto;line-height:normal;font-family:Menlo,'DejaVu Sans Mono',consolas,'Courier New',monospace\"><span style=\"color: #008000; text-decoration-color: #008000\">DEBUG   </span> * Tokens per second:           <span style=\"color: #008080; text-decoration-color: #008080; font-weight: bold\">54.5323</span> tokens/s                                                           \n",
       "</pre>\n"
      ],
      "text/plain": [
       "\u001b[32mDEBUG   \u001b[0m * Tokens per second:           \u001b[1;36m54.5323\u001b[0m tokens/s                                                           \n"
      ]
     },
     "metadata": {},
     "output_type": "display_data"
    },
    {
     "data": {
      "text/html": [
       "<pre style=\"white-space:pre;overflow-x:auto;line-height:normal;font-family:Menlo,'DejaVu Sans Mono',consolas,'Courier New',monospace\"><span style=\"color: #008000; text-decoration-color: #008000\">DEBUG   </span> * Input tokens:                <span style=\"color: #008080; text-decoration-color: #008080; font-weight: bold\">798</span>                                                                        \n",
       "</pre>\n"
      ],
      "text/plain": [
       "\u001b[32mDEBUG   \u001b[0m * Input tokens:                \u001b[1;36m798\u001b[0m                                                                        \n"
      ]
     },
     "metadata": {},
     "output_type": "display_data"
    },
    {
     "data": {
      "text/html": [
       "<pre style=\"white-space:pre;overflow-x:auto;line-height:normal;font-family:Menlo,'DejaVu Sans Mono',consolas,'Courier New',monospace\"><span style=\"color: #008000; text-decoration-color: #008000\">DEBUG   </span> * Output tokens:               <span style=\"color: #008080; text-decoration-color: #008080; font-weight: bold\">179</span>                                                                        \n",
       "</pre>\n"
      ],
      "text/plain": [
       "\u001b[32mDEBUG   \u001b[0m * Output tokens:               \u001b[1;36m179\u001b[0m                                                                        \n"
      ]
     },
     "metadata": {},
     "output_type": "display_data"
    },
    {
     "data": {
      "text/html": [
       "<pre style=\"white-space:pre;overflow-x:auto;line-height:normal;font-family:Menlo,'DejaVu Sans Mono',consolas,'Courier New',monospace\"><span style=\"color: #008000; text-decoration-color: #008000\">DEBUG   </span> * Total tokens:                <span style=\"color: #008080; text-decoration-color: #008080; font-weight: bold\">977</span>                                                                        \n",
       "</pre>\n"
      ],
      "text/plain": [
       "\u001b[32mDEBUG   \u001b[0m * Total tokens:                \u001b[1;36m977\u001b[0m                                                                        \n"
      ]
     },
     "metadata": {},
     "output_type": "display_data"
    },
    {
     "data": {
      "text/html": [
       "<pre style=\"white-space:pre;overflow-x:auto;line-height:normal;font-family:Menlo,'DejaVu Sans Mono',consolas,'Courier New',monospace\"><span style=\"color: #008000; text-decoration-color: #008000\">DEBUG   </span> **************** METRICS END ******************                                                           \n",
       "</pre>\n"
      ],
      "text/plain": [
       "\u001b[32mDEBUG   \u001b[0m **************** METRICS END ******************                                                           \n"
      ]
     },
     "metadata": {},
     "output_type": "display_data"
    },
    {
     "data": {
      "text/html": [
       "<pre style=\"white-space:pre;overflow-x:auto;line-height:normal;font-family:Menlo,'DejaVu Sans Mono',consolas,'Courier New',monospace\"><span style=\"color: #008000; text-decoration-color: #008000\">DEBUG   </span> ---------- Gemini Response End ----------                                                                 \n",
       "</pre>\n"
      ],
      "text/plain": [
       "\u001b[32mDEBUG   \u001b[0m ---------- Gemini Response End ----------                                                                 \n"
      ]
     },
     "metadata": {},
     "output_type": "display_data"
    },
    {
     "data": {
      "text/html": [
       "<pre style=\"white-space:pre;overflow-x:auto;line-height:normal;font-family:Menlo,'DejaVu Sans Mono',consolas,'Courier New',monospace\"><span style=\"color: #008000; text-decoration-color: #008000\">DEBUG   </span> Added <span style=\"color: #008080; text-decoration-color: #008080; font-weight: bold\">2</span> Messages to AgentMemory                                                                           \n",
       "</pre>\n"
      ],
      "text/plain": [
       "\u001b[32mDEBUG   \u001b[0m Added \u001b[1;36m2\u001b[0m Messages to AgentMemory                                                                           \n"
      ]
     },
     "metadata": {},
     "output_type": "display_data"
    },
    {
     "data": {
      "text/html": [
       "<pre style=\"white-space:pre;overflow-x:auto;line-height:normal;font-family:Menlo,'DejaVu Sans Mono',consolas,'Courier New',monospace\"><span style=\"color: #008000; text-decoration-color: #008000\">DEBUG   </span> Added AgentRun to AgentMemory                                                                             \n",
       "</pre>\n"
      ],
      "text/plain": [
       "\u001b[32mDEBUG   \u001b[0m Added AgentRun to AgentMemory                                                                             \n"
      ]
     },
     "metadata": {},
     "output_type": "display_data"
    },
    {
     "data": {
      "text/html": [
       "<pre style=\"white-space:pre;overflow-x:auto;line-height:normal;font-family:Menlo,'DejaVu Sans Mono',consolas,'Courier New',monospace\"><span style=\"color: #008000; text-decoration-color: #008000\">DEBUG   </span> --**-- Logging Agent Run                                                                                  \n",
       "</pre>\n"
      ],
      "text/plain": [
       "\u001b[32mDEBUG   \u001b[0m --**-- Logging Agent Run                                                                                  \n"
      ]
     },
     "metadata": {},
     "output_type": "display_data"
    },
    {
     "data": {
      "text/html": [
       "<pre style=\"white-space:pre;overflow-x:auto;line-height:normal;font-family:Menlo,'DejaVu Sans Mono',consolas,'Courier New',monospace\"><span style=\"color: #008000; text-decoration-color: #008000\">DEBUG   </span> *********** Agent Run End: <span style=\"color: #ffff00; text-decoration-color: #ffff00\">129101eb-afe3-4909-aa50-0c31a076dfd9</span> ***********                               \n",
       "</pre>\n"
      ],
      "text/plain": [
       "\u001b[32mDEBUG   \u001b[0m *********** Agent Run End: \u001b[93m129101eb-afe3-4909-aa50-0c31a076dfd9\u001b[0m ***********                               \n"
      ]
     },
     "metadata": {},
     "output_type": "display_data"
    }
   ],
   "source": [
    "response = agent.run(f\"resume - {resume}, and job applicatioh is - {df.iloc[0, 19]}\")"
   ]
  },
  {
   "cell_type": "code",
   "execution_count": 55,
   "id": "b40655ae-4da8-4992-8820-ad12bb19cb81",
   "metadata": {},
   "outputs": [
    {
     "data": {
      "text/plain": [
       "9"
      ]
     },
     "execution_count": 55,
     "metadata": {},
     "output_type": "execute_result"
    }
   ],
   "source": [
    "response.content.rating"
   ]
  },
  {
   "cell_type": "code",
   "execution_count": 56,
   "id": "a6fd1c93-2071-4b26-beb7-c5bd2ca58f26",
   "metadata": {},
   "outputs": [
    {
     "data": {
      "text/plain": [
       "['The candidate possesses significantly more experience (7+ years) than the minimum requirement (3 years) of the job description.',\n",
       " \"The candidate's skillset extensively covers the required programming languages (Python), machine learning libraries (Scikit-learn), and data visualization tools (Matplotlib, Seaborn).\",\n",
       " 'The resume highlights experience in diverse domains, showcasing adaptability relevant to a dynamic organization like InnoWave.',\n",
       " \"The candidate's experience with cloud platforms (AWS, GCP, Azure) is a valuable asset, although not explicitly mentioned in the job description.\",\n",
       " \"While the job description mentions big data tools, the resume doesn't explicitly state experience with Spark or Hadoop.  This is a minor gap.\"]"
      ]
     },
     "execution_count": 56,
     "metadata": {},
     "output_type": "execute_result"
    }
   ],
   "source": [
    "response.content.justification"
   ]
  },
  {
   "cell_type": "code",
   "execution_count": null,
   "id": "ca5ad88b-2c41-4016-9265-1a37d39ed65c",
   "metadata": {},
   "outputs": [],
   "source": []
  }
 ],
 "metadata": {
  "kernelspec": {
   "display_name": "JobAgent2",
   "language": "python",
   "name": "jobagent2"
  },
  "language_info": {
   "codemirror_mode": {
    "name": "ipython",
    "version": 3
   },
   "file_extension": ".py",
   "mimetype": "text/x-python",
   "name": "python",
   "nbconvert_exporter": "python",
   "pygments_lexer": "ipython3",
   "version": "3.11.11"
  }
 },
 "nbformat": 4,
 "nbformat_minor": 5
}
