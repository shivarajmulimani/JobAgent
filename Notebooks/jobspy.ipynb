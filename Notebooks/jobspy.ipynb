{
 "cells": [
  {
   "cell_type": "code",
   "execution_count": 5,
   "id": "e55472c4-ee0a-4e6b-ab7f-03fff415ffd6",
   "metadata": {},
   "outputs": [
    {
     "name": "stderr",
     "output_type": "stream",
     "text": [
      "2025-01-26 20:58:19,891 - INFO - JobSpy:LinkedIn - search page: 1 / 5\n",
      "2025-01-26 20:58:20,614 - INFO - JobSpy:Google - search page: 1 / 5\n",
      "2025-01-26 20:58:20,630 - INFO - JobSpy:Glassdoor - search page: 1 / 2\n",
      "2025-01-26 20:58:20,996 - INFO - JobSpy:Google - search page: 2 / 5\n",
      "2025-01-26 20:58:21,553 - INFO - JobSpy:Google - search page: 3 / 5\n",
      "2025-01-26 20:58:21,909 - INFO - JobSpy:Google - search page: 4 / 5\n",
      "2025-01-26 20:58:22,421 - INFO - JobSpy:Google - search page: 5 / 5\n",
      "2025-01-26 20:58:22,483 - INFO - JobSpy:Glassdoor - search page: 2 / 2\n",
      "2025-01-26 20:58:22,949 - INFO - JobSpy:Google - finished scraping\n",
      "2025-01-26 20:58:23,764 - INFO - JobSpy:Glassdoor - finished scraping\n",
      "2025-01-26 20:58:34,619 - INFO - JobSpy:LinkedIn - search page: 2 / 5\n",
      "2025-01-26 20:58:51,096 - INFO - JobSpy:LinkedIn - search page: 3 / 5\n",
      "2025-01-26 20:59:03,749 - INFO - JobSpy:LinkedIn - search page: 4 / 5\n",
      "2025-01-26 20:59:18,528 - INFO - JobSpy:LinkedIn - search page: 5 / 5\n",
      "2025-01-26 20:59:34,209 - INFO - JobSpy:LinkedIn - search page: 6 / 5\n",
      "2025-01-26 20:59:36,656 - INFO - JobSpy:Linkedin - finished scraping\n"
     ]
    },
    {
     "name": "stdout",
     "output_type": "stream",
     "text": [
      "Found 132 jobs\n",
      "                 id       site  \\\n",
      "0  gd-1009612279117  glassdoor   \n",
      "1  gd-1009612394853  glassdoor   \n",
      "2  gd-1009612054557  glassdoor   \n",
      "3  gd-1009611739070  glassdoor   \n",
      "4  gd-1009612363159  glassdoor   \n",
      "\n",
      "                                             job_url job_url_direct  \\\n",
      "0  https://www.glassdoor.com/job-listing/j?jl=100...            NaN   \n",
      "1  https://www.glassdoor.com/job-listing/j?jl=100...            NaN   \n",
      "2  https://www.glassdoor.com/job-listing/j?jl=100...            NaN   \n",
      "3  https://www.glassdoor.com/job-listing/j?jl=100...            NaN   \n",
      "4  https://www.glassdoor.com/job-listing/j?jl=100...            NaN   \n",
      "\n",
      "                                               title    company   location  \\\n",
      "0                             Senior AI/ML Developer  HireRight  Bengaluru   \n",
      "1         AI Safety Data Scientist, Trust and Safety     Google  Bengaluru   \n",
      "2                                     Data Scientist    NatWest  Bengaluru   \n",
      "3  Senior Software Engineer, Machine Learning, Se...     Google  Bengaluru   \n",
      "4                           Associate Data Scientist        SAP  Bengaluru   \n",
      "\n",
      "  date_posted job_type salary_source  ...           emails  \\\n",
      "0  2025-01-25      NaN           NaN  ...              NaN   \n",
      "1  2025-01-25      NaN           NaN  ...              NaN   \n",
      "2  2025-01-25      NaN   direct_data  ...              NaN   \n",
      "3  2025-01-25      NaN           NaN  ...              NaN   \n",
      "4  2025-01-25      NaN   direct_data  ...  Careers@sap.com   \n",
      "\n",
      "                                         description  company_industry  \\\n",
      "0  About HireRight:\\n\\nHireRight is the premier g...               NaN   \n",
      "1  **Minimum qualifications:**  \\n\\n* Bachelor's ...               NaN   \n",
      "2  Join us as a Data Scientist\\n\\n* You’ll design...               NaN   \n",
      "3  **Minimum qualifications:**  \\n\\n* Bachelor’s ...               NaN   \n",
      "4  **We help the world run better**\\n\\nAt SAP, we...               NaN   \n",
      "\n",
      "                                         company_url  \\\n",
      "0  https://www.glassdoor.com/Overview/W-EI_IE2270...   \n",
      "1  https://www.glassdoor.com/Overview/W-EI_IE9079...   \n",
      "2  https://www.glassdoor.com/Overview/W-EI_IE1022...   \n",
      "3  https://www.glassdoor.com/Overview/W-EI_IE9079...   \n",
      "4  https://www.glassdoor.com/Overview/W-EI_IE1047...   \n",
      "\n",
      "                                        company_logo company_url_direct  \\\n",
      "0  https://media.glassdoor.com/sql/22707/hirerigh...               None   \n",
      "1  https://media.glassdoor.com/sql/9079/google-sq...               None   \n",
      "2  https://media.glassdoor.com/sql/10222/natwest-...               None   \n",
      "3  https://media.glassdoor.com/sql/9079/google-sq...               None   \n",
      "4  https://media.glassdoor.com/sql/10471/sap-squa...               None   \n",
      "\n",
      "  company_addresses company_num_employees company_revenue company_description  \n",
      "0              None                  None            None                None  \n",
      "1              None                  None            None                None  \n",
      "2              None                  None            None                None  \n",
      "3              None                  None            None                None  \n",
      "4              None                  None            None                None  \n",
      "\n",
      "[5 rows x 28 columns]\n"
     ]
    }
   ],
   "source": [
    "import csv\n",
    "from jobspy import scrape_jobs\n",
    "\n",
    "jobs = scrape_jobs(\n",
    "    # site_name=[\"indeed\", \"linkedin\", \"zip_recruiter\", \"glassdoor\", \"google\"],\n",
    "    site_name=[\"linkedin\",\"glassdoor\", \"google\"],\n",
    "    search_term=\"Data Scientist\",\n",
    "    google_search_term=\"Data Scientist\",\n",
    "    job_type=\"fulltime\",\n",
    "    location=\"India, Bangalore\",\n",
    "    results_wanted=50,\n",
    "    hours_old=72,\n",
    "    # country_indeed='USA',\n",
    "    \n",
    "    linkedin_fetch_description=True # gets more info such as description, direct job url (slower)\n",
    "    # proxies=[\"208.195.175.46:65095\", \"208.195.175.45:65095\", \"localhost\"],\n",
    ")\n",
    "print(f\"Found {len(jobs)} jobs\")\n",
    "print(jobs.head())\n",
    "jobs.to_csv(\"jobs.csv\", quoting=csv.QUOTE_NONNUMERIC, escapechar=\"\\\\\", index=False) # to_excel"
   ]
  },
  {
   "cell_type": "code",
   "execution_count": null,
   "id": "82024df6-bcad-4b23-9e49-589a3b347055",
   "metadata": {},
   "outputs": [],
   "source": []
  }
 ],
 "metadata": {
  "kernelspec": {
   "display_name": "JobAgent2",
   "language": "python",
   "name": "jobagent2"
  },
  "language_info": {
   "codemirror_mode": {
    "name": "ipython",
    "version": 3
   },
   "file_extension": ".py",
   "mimetype": "text/x-python",
   "name": "python",
   "nbconvert_exporter": "python",
   "pygments_lexer": "ipython3",
   "version": "3.11.11"
  }
 },
 "nbformat": 4,
 "nbformat_minor": 5
}
