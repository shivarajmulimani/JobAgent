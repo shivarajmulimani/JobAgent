{
 "cells": [
  {
   "cell_type": "code",
   "execution_count": null,
   "id": "6a7338f8-9d26-4194-ac21-50c8f50e6c90",
   "metadata": {},
   "outputs": [],
   "source": [
    "from linkedin_api import Linkedin\n",
    "\n",
    "# Authenticate using any Linkedin user account credentials\n",
    "api = Linkedin('shivmantu@gmail.com', 'Antharyami@2025', refresh_cookies=True)\n",
    "\n",
    "# GET a profile\n",
    "# profile = api.get_profile('billy-g')\n",
    "\n",
    "# # GET a profiles contact info\n",
    "# contact_info = api.get_profile_contact_info('billy-g')\n",
    "\n",
    "# # GET 1st degree connections of a given profile\n",
    "# connections = api.get_profile_connections('1234asc12304')"
   ]
  },
  {
   "cell_type": "code",
   "execution_count": null,
   "id": "3a2a9112-8507-4498-bf44-78d039bc0275",
   "metadata": {},
   "outputs": [],
   "source": [
    "api.search_jobs(keywords=\"data sceince\")"
   ]
  },
  {
   "cell_type": "code",
   "execution_count": null,
   "id": "de496960-1d0d-4c69-9b1a-2ff1ace7ae4e",
   "metadata": {},
   "outputs": [],
   "source": []
  }
 ],
 "metadata": {
  "kernelspec": {
   "display_name": "JobAgent2",
   "language": "python",
   "name": "jobagent2"
  },
  "language_info": {
   "codemirror_mode": {
    "name": "ipython",
    "version": 3
   },
   "file_extension": ".py",
   "mimetype": "text/x-python",
   "name": "python",
   "nbconvert_exporter": "python",
   "pygments_lexer": "ipython3",
   "version": "3.11.11"
  }
 },
 "nbformat": 4,
 "nbformat_minor": 5
}
